{
  "nbformat": 4,
  "nbformat_minor": 0,
  "metadata": {
    "colab": {
      "name": "PYMUG #4.ipynb",
      "version": "0.3.2",
      "provenance": [],
      "include_colab_link": true
    },
    "kernelspec": {
      "name": "python3",
      "display_name": "Python 3"
    }
  },
  "cells": [
    {
      "cell_type": "markdown",
      "metadata": {
        "id": "view-in-github",
        "colab_type": "text"
      },
      "source": [
        "<a href=\"https://colab.research.google.com/github/kherin/BeautifulSoup/blob/master/PYMUG_4.ipynb\" target=\"_parent\"><img src=\"https://colab.research.google.com/assets/colab-badge.svg\" alt=\"Open In Colab\"/></a>"
      ]
    },
    {
      "cell_type": "markdown",
      "metadata": {
        "id": "PFdpaytQb_Bt",
        "colab_type": "text"
      },
      "source": [
        "#Python User Group Mauritius: Web Scraping"
      ]
    },
    {
      "cell_type": "markdown",
      "metadata": {
        "id": "3F7lQ86ocV3X",
        "colab_type": "text"
      },
      "source": [
        "## Basics Of BeautifulSoup"
      ]
    },
    {
      "cell_type": "code",
      "metadata": {
        "id": "aCfD1YahdYmy",
        "colab_type": "code",
        "colab": {}
      },
      "source": [
        "from bs4 import BeautifulSoup\n",
        "import urllib.request"
      ],
      "execution_count": 0,
      "outputs": []
    },
    {
      "cell_type": "markdown",
      "metadata": {
        "id": "CUhnM9Gtcg11",
        "colab_type": "text"
      },
      "source": [
        "### Prettify"
      ]
    },
    {
      "cell_type": "code",
      "metadata": {
        "id": "LtJ-ZliXcfV1",
        "colab_type": "code",
        "colab": {}
      },
      "source": [
        "soup = BeautifulSoup(html_doc, 'html.parser')\n",
        "html_doc = '<html><head><title>The Dormouse story</title></head><body><p class=\"title\"><b>The Dormouse story</b></p><p class=\"story\">Once upon a time there were three little sisters; and their names were<a href=\"http://example.com/elsie\" class=\"sister\" id=\"link1\">Elsie</a>,<a href=\"http://example.com/lacie\" class=\"sister\" id=\"link2\">Lacie</a> and<a href=\"http://example.com/tillie\" class=\"sister\" id=\"link3\">Tillie</a>;and they lived at the bottom of a well.</p><p class=\"story\">...</p>'\n",
        "html_doc"
      ],
      "execution_count": 0,
      "outputs": []
    },
    {
      "cell_type": "code",
      "metadata": {
        "id": "4mBuFiwnczQR",
        "colab_type": "code",
        "colab": {}
      },
      "source": [
        "print(soup.prettify())"
      ],
      "execution_count": 0,
      "outputs": []
    },
    {
      "cell_type": "markdown",
      "metadata": {
        "id": "2prUMmEDdpDG",
        "colab_type": "text"
      },
      "source": [
        "## Navigate through the HTML Document"
      ]
    },
    {
      "cell_type": "code",
      "metadata": {
        "id": "R6slxR3dduC7",
        "colab_type": "code",
        "colab": {}
      },
      "source": [
        "title = soup.title\n",
        "print(title)\n"
      ],
      "execution_count": 0,
      "outputs": []
    },
    {
      "cell_type": "code",
      "metadata": {
        "id": "9Skt-sjvd7N4",
        "colab_type": "code",
        "colab": {}
      },
      "source": [
        "title_value = soup.title.string\n",
        "print(title_value)"
      ],
      "execution_count": 0,
      "outputs": []
    },
    {
      "cell_type": "code",
      "metadata": {
        "id": "vwrUlb9geFvq",
        "colab_type": "code",
        "colab": {}
      },
      "source": [
        "soup.p"
      ],
      "execution_count": 0,
      "outputs": []
    },
    {
      "cell_type": "code",
      "metadata": {
        "id": "VtdlvfbEekGC",
        "colab_type": "code",
        "colab": {}
      },
      "source": [
        "soup.find_all('a')"
      ],
      "execution_count": 0,
      "outputs": []
    },
    {
      "cell_type": "code",
      "metadata": {
        "id": "-Cdp0-RUeusY",
        "colab_type": "code",
        "colab": {}
      },
      "source": [
        "soup.find(id=\"link3\")"
      ],
      "execution_count": 0,
      "outputs": []
    },
    {
      "cell_type": "markdown",
      "metadata": {
        "id": "DC_b2x8dfMxW",
        "colab_type": "text"
      },
      "source": [
        "##Modifying HTML\n"
      ]
    },
    {
      "cell_type": "code",
      "metadata": {
        "id": "grrgTAMufQ3G",
        "colab_type": "code",
        "colab": {}
      },
      "source": [
        "markup = '<a href=\"http://example.com/\">I linked to <i>example.com</i></a>'\n",
        "soup = BeautifulSoup(markup)\n",
        "\n",
        "tag = soup.a\n",
        "tag.string = \"New link text.\"\n",
        "tag"
      ],
      "execution_count": 0,
      "outputs": []
    },
    {
      "cell_type": "markdown",
      "metadata": {
        "id": "V4C5r915foDm",
        "colab_type": "text"
      },
      "source": [
        "## Open WebPage"
      ]
    },
    {
      "cell_type": "code",
      "metadata": {
        "id": "_hrnkuguftvY",
        "colab_type": "code",
        "colab": {}
      },
      "source": [
        "pymug_source = urllib.request.urlopen('https://www.pymug.com/').read()"
      ],
      "execution_count": 0,
      "outputs": []
    },
    {
      "cell_type": "code",
      "metadata": {
        "id": "7ViLBzF-f-J2",
        "colab_type": "code",
        "colab": {}
      },
      "source": [
        "pymug_soup = BeautifulSoup(pymug_source, 'html.parser')"
      ],
      "execution_count": 0,
      "outputs": []
    },
    {
      "cell_type": "code",
      "metadata": {
        "id": "yvmj1fUEf9Mw",
        "colab_type": "code",
        "colab": {}
      },
      "source": [
        "pymug_el = pymug_soup.select('div.title_sub.bgblue2')\n",
        "pymug_el[0].text\n"
      ],
      "execution_count": 0,
      "outputs": []
    },
    {
      "cell_type": "code",
      "metadata": {
        "id": "Zutvka-LhJCx",
        "colab_type": "code",
        "colab": {}
      },
      "source": [
        "~"
      ],
      "execution_count": 0,
      "outputs": []
    }
  ]
}